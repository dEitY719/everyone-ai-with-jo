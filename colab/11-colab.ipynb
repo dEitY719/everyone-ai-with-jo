{
 "cells": [
  {
   "cell_type": "markdown",
   "metadata": {
    "id": "XsalpJ_KLSSv"
   },
   "source": [
    "# 5교시 3.자연어 처리"
   ]
  },
  {
   "cell_type": "markdown",
   "metadata": {
    "id": "dyGt_ra8LSSz"
   },
   "source": [
    "## 1. 텍스트의 토큰화"
   ]
  },
  {
   "cell_type": "code",
   "execution_count": 62,
   "metadata": {},
   "outputs": [
    {
     "name": "stdout",
     "output_type": "stream",
     "text": [
      "\n",
      "단어 인덱스:\n",
      " {'커피': 1, '한잔': 2, '어때': 3}\n"
     ]
    }
   ],
   "source": [
    "from tensorflow.keras.preprocessing.text import Tokenizer\n",
    "from tensorflow.keras.preprocessing.sequence import pad_sequences\n",
    "from tensorflow.keras.models import Sequential\n",
    "from tensorflow.keras.layers import Embedding\n",
    "import numpy as np\n",
    "\n",
    "# 전처리할 텍스트를 정합니다.\n",
    "text = '커피 한잔 어때'\n",
    "\n",
    "# Tokenizer 객체 생성 및 fit_on_texts로 단어 인덱스 학습\n",
    "tokenizer = Tokenizer()\n",
    "tokenizer.fit_on_texts([text])\n",
    "\n",
    "# texts_to_sequences로 텍스트를 시퀀스로 변환\n",
    "sequences = tokenizer.texts_to_sequences([text])\n",
    "\n",
    "# 단어 인덱스 확인\n",
    "word_index = tokenizer.word_index\n",
    "print(\"\\n단어 인덱스:\\n\", word_index)\n"
   ]
  },
  {
   "cell_type": "code",
   "execution_count": 65,
   "metadata": {},
   "outputs": [
    {
     "name": "stdout",
     "output_type": "stream",
     "text": [
      "\n",
      "단어 카운트:\n",
      " OrderedDict([('먼저', 1), ('텍스트의', 2), ('각', 1), ('단어를', 1), ('나누어', 1), ('토큰화합니다', 1), ('단어로', 1), ('토큰화해야', 1), ('딥러닝에서', 2), ('인식됩니다', 1), ('토큰화한', 1), ('결과는', 1), ('사용할', 1), ('수', 1), ('있습니다', 1)])\n",
      "\n",
      "문장 카운트:  3\n",
      "\n",
      "각 단어가 몇 개의 문장에 포함되어 있는가:\n",
      " defaultdict(<class 'int'>, {'단어를': 1, '토큰화합니다': 1, '텍스트의': 2, '각': 1, '먼저': 1, '나누어': 1, '단어로': 1, '토큰화해야': 1, '인식됩니다': 1, '딥러닝에서': 2, '있습니다': 1, '결과는': 1, '수': 1, '토큰화한': 1, '사용할': 1})\n",
      "\n",
      "각 단어에 매겨진 인덱스 값:\n",
      " {'텍스트의': 1, '딥러닝에서': 2, '먼저': 3, '각': 4, '단어를': 5, '나누어': 6, '토큰화합니다': 7, '단어로': 8, '토큰화해야': 9, '인식됩니다': 10, '토큰화한': 11, '결과는': 12, '사용할': 13, '수': 14, '있습니다': 15}\n"
     ]
    }
   ],
   "source": [
    "# 단어 빈도수 세기\n",
    "\n",
    "# 전처리하려는 세 개의 문장을 정합니다.\n",
    "docs = ['먼저 텍스트의 각 단어를 나누어 토큰화합니다.',\n",
    "       '텍스트의 단어로 토큰화해야 딥러닝에서 인식됩니다.',\n",
    "       '토큰화한 결과는 딥러닝에서 사용할 수 있습니다.',\n",
    "       ]\n",
    " \n",
    "# 토큰화 함수를 이용해 전처리 하는 과정입니다.\n",
    "tokenizer = Tokenizer()            # 토큰화 함수 지정\n",
    "tokenizer.fit_on_texts(docs)       # 토큰화 함수에 문장 적용\n",
    " \n",
    "# 단어의 빈도수를 계산한 결과를 각 옵션에 맞추어 출력합니다.\n",
    "print(\"\\n단어 카운트:\\n\", token.word_counts) \n",
    "\n",
    "# 출력되는 순서는 랜덤입니다. \n",
    "print(\"\\n문장 카운트: \", token.document_count)\n",
    "print(\"\\n각 단어가 몇 개의 문장에 포함되어 있는가:\\n\", token.word_docs)\n",
    "print(\"\\n각 단어에 매겨진 인덱스 값:\\n\",  token.word_index)"
   ]
  },
  {
   "cell_type": "code",
   "execution_count": 63,
   "metadata": {},
   "outputs": [
    {
     "name": "stdout",
     "output_type": "stream",
     "text": [
      "\n",
      "단어 인덱스:\n",
      " {'커피': 1, '한잔': 2, '어때': 3, '오늘': 4, '날씨': 5, '참': 6, '좋네': 7, '옷이': 8, '어울려요': 9}\n",
      "\n",
      "시퀀스:\n",
      " [[1, 2, 3], [4, 5, 6, 7], [8, 9]]\n",
      "\n",
      "패딩된 시퀀스:\n",
      " [[0 1 2 3]\n",
      " [4 5 6 7]\n",
      " [0 0 8 9]]\n",
      "1/1 [==============================] - 0s 32ms/step\n",
      "\n",
      "임베딩 결과:\n",
      " [[[-0.04810322 -0.02339193 -0.04635073  0.03138002 -0.04258459]\n",
      "  [ 0.00559514 -0.01070553  0.02048979 -0.00155455 -0.04767839]\n",
      "  [-0.01770978 -0.00939572  0.03808171 -0.04780174 -0.03388571]\n",
      "  [ 0.00890402  0.01370268 -0.03273785 -0.00947207  0.01550147]]\n",
      "\n",
      " [[-0.01358228  0.00959352  0.00552785  0.01577798  0.01381512]\n",
      "  [-0.04594232 -0.00720787 -0.03181384 -0.00494145 -0.02914131]\n",
      "  [-0.00635261 -0.01180862 -0.04774201 -0.04441899 -0.04233107]\n",
      "  [-0.03013059 -0.00751124  0.01666934 -0.0186285   0.00852138]]\n",
      "\n",
      " [[-0.04810322 -0.02339193 -0.04635073  0.03138002 -0.04258459]\n",
      "  [-0.04810322 -0.02339193 -0.04635073  0.03138002 -0.04258459]\n",
      "  [ 0.01184933  0.02901917  0.042213    0.02512903 -0.02762463]\n",
      "  [ 0.03520517 -0.01053436  0.00184693 -0.04466362 -0.03904087]]]\n"
     ]
    }
   ],
   "source": [
    "# 전처리할 텍스트를 정합니다.\n",
    "texts = ['커피 한잔 어때', '오늘 날씨 참 좋네', '옷이 어울려요']\n",
    "\n",
    "# Tokenizer 객체 생성 및 fit_on_texts로 단어 인덱스 학습\n",
    "tokenizer = Tokenizer()\n",
    "tokenizer.fit_on_texts(texts)\n",
    "\n",
    "# texts_to_sequences로 텍스트를 시퀀스로 변환\n",
    "sequences = tokenizer.texts_to_sequences(texts)\n",
    "\n",
    "# 단어 인덱스 확인\n",
    "word_index = tokenizer.word_index\n",
    "print(\"\\n단어 인덱스:\\n\", word_index)\n",
    "\n",
    "# 패딩을 통해 시퀀스 길이를 맞춥니다.\n",
    "print(\"\\n시퀀스:\\n\", sequences)\n",
    "padded_sequences = pad_sequences(sequences, 4)  \n",
    "print(\"\\n패딩된 시퀀스:\\n\", padded_x)\n",
    "\n",
    "model = Sequential()\n",
    "model.add(Embedding(input_dim=9+1, output_dim=5, input_length=4))  \n",
    "#input_dim에 1을 더하는 것은 인덱스 0을 패딩 값으로 사용하기 위함. \n",
    "#Keras의 Tokenizer는 단어 인덱스를 1부터 시작하기 때문에, 인덱스 0은 패딩을 나타내는 값으로 예약 \n",
    "#output_dim은 단어가 임베딩될 벡터의 길이\n",
    "\n",
    "# 임베딩 결과 확인\n",
    "embedding_output = model.predict(padded_sequences)\n",
    "print(\"\\n임베딩 결과:\\n\", embedding_output)\n"
   ]
  }
 ],
 "metadata": {
  "colab": {
   "collapsed_sections": [],
   "name": "ch17-colab.ipynb",
   "provenance": []
  },
  "kernelspec": {
   "display_name": "Python 3 (ipykernel)",
   "language": "python",
   "name": "python3"
  },
  "language_info": {
   "codemirror_mode": {
    "name": "ipython",
    "version": 3
   },
   "file_extension": ".py",
   "mimetype": "text/x-python",
   "name": "python",
   "nbconvert_exporter": "python",
   "pygments_lexer": "ipython3",
   "version": "3.8.19"
  }
 },
 "nbformat": 4,
 "nbformat_minor": 4
}
